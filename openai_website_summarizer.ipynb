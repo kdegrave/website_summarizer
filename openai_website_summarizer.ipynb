{
 "cells": [
  {
   "cell_type": "code",
   "execution_count": 1,
   "id": "ed939dc5-73b9-4b3f-82cf-42fbbd983df4",
   "metadata": {},
   "outputs": [],
   "source": [
    "from IPython.display import Markdown, display\n",
    "from dotenv import load_dotenv \n",
    "from bs4 import BeautifulSoup\n",
    "import requests\n",
    "import os\n",
    "from openai import OpenAI"
   ]
  },
  {
   "cell_type": "code",
   "execution_count": 2,
   "id": "a8708d90-7313-4565-bbb7-6e35368fbafd",
   "metadata": {},
   "outputs": [
    {
     "data": {
      "text/plain": [
       "True"
      ]
     },
     "execution_count": 2,
     "metadata": {},
     "output_type": "execute_result"
    }
   ],
   "source": [
    "load_dotenv()"
   ]
  },
  {
   "cell_type": "code",
   "execution_count": 3,
   "id": "682eff74-55c4-4d4b-b267-703edbc293c7",
   "metadata": {},
   "outputs": [],
   "source": [
    "api_key = os.getenv('OPENAI_API_KEY')"
   ]
  },
  {
   "cell_type": "code",
   "execution_count": 4,
   "id": "55827fd6-333e-4af1-bf06-f2cc40f206ea",
   "metadata": {},
   "outputs": [],
   "source": [
    "openai = OpenAI()"
   ]
  },
  {
   "cell_type": "code",
   "execution_count": 5,
   "id": "3ba2e1d2-f8ef-45d1-ae75-822a53ef5074",
   "metadata": {},
   "outputs": [],
   "source": [
    "class Website:\n",
    "    \"\"\"\n",
    "    Class to parse website content while removing unhelpful tags.\n",
    "    \"\"\"\n",
    "\n",
    "    def __init__(self, url):\n",
    "        self.url = url\n",
    "\n",
    "        content = requests.get(self.url).content\n",
    "\n",
    "        soup = BeautifulSoup(content, 'html.parser')\n",
    "\n",
    "        for tag in soup(['script', 'style', 'img', 'input']):\n",
    "            tag.decompose()\n",
    "\n",
    "        self.title = soup.title.string\n",
    "\n",
    "        self.text = soup.body.get_text(separator='\\n', strip=True)"
   ]
  },
  {
   "cell_type": "code",
   "execution_count": 6,
   "id": "4b34de80-277b-4ed9-b32e-e829fa50ef3f",
   "metadata": {},
   "outputs": [],
   "source": [
    "system_prompt = 'You are an assistant that analyzes the contents of a website \\\n",
    "and provides a short summary, ignoring text that might be navigation related. \\\n",
    "Respond in markdown.'"
   ]
  },
  {
   "cell_type": "code",
   "execution_count": 7,
   "id": "a1775ce4-90a6-4c71-bd00-9ec0d4102e34",
   "metadata": {},
   "outputs": [],
   "source": [
    "def user_prompt_for(website):\n",
    "\n",
    "    user_prompt = f\"You are looking at a website titled {website.title}. \\\n",
    "The contents of this website is as follows; \\\n",
    "please provide a short summary of this website in markdown. \\\n",
    "If it includes news or announcements, then summarize these too.\\n\\n\"\n",
    "\n",
    "    user_prompt += website.text\n",
    "    return user_prompt"
   ]
  },
  {
   "cell_type": "code",
   "execution_count": 8,
   "id": "e7cd8cc6-6ae9-48af-8ed7-80031bfe12f7",
   "metadata": {},
   "outputs": [],
   "source": [
    "def messages_for(website):\n",
    "    return [\n",
    "        {'role': 'system', 'content': system_prompt},\n",
    "        {'role': 'user', 'content': user_prompt_for(website)},\n",
    "    ]"
   ]
  },
  {
   "cell_type": "code",
   "execution_count": 9,
   "id": "c2c08db9-8857-49fe-8658-237115d77beb",
   "metadata": {},
   "outputs": [],
   "source": [
    "def summarize(url):\n",
    "\n",
    "    website = Website(url)\n",
    "\n",
    "    response = openai.chat.completions.create(\n",
    "        model='gpt-4o-mini',\n",
    "        messages=messages_for(website)\n",
    "    )\n",
    "\n",
    "    return response.choices[0].message.content"
   ]
  },
  {
   "cell_type": "code",
   "execution_count": 10,
   "id": "490aab74-7a3f-46d1-8314-1c25f14978cc",
   "metadata": {},
   "outputs": [],
   "source": [
    "summary = summarize('https://www.cnn.com/')"
   ]
  },
  {
   "cell_type": "code",
   "execution_count": 11,
   "id": "7a074647-ab5d-413a-a90e-24e5d0ee27c7",
   "metadata": {},
   "outputs": [
    {
     "data": {
      "text/markdown": [
       "# CNN Website Summary \n",
       "\n",
       "CNN's website provides breaking news, a wide array of articles, and video content on various topics including **U.S. news**, **world events**, **politics**, **business**, **health**, **entertainment**, **sports**, and **science**. \n",
       "\n",
       "## Recent Highlights\n",
       "- **Ukraine-Russia War**: Ukraine has launched attacks into Russia, following U.S. authorization to use longer-range missiles.\n",
       "- **Trump Administration Developments**: Trump is expected to nominate financial industry executive Howard Lutnik for the Secretary of Commerce position.\n",
       "- **Health News**: A Michigan man made headlines after receiving a rare face transplant.\n",
       "- **Crime Reports**: Multiple stabbings occurred in Manhattan, resulting in three fatalities, raising concerns about public safety.\n",
       "\n",
       "## Additional Topics \n",
       "The site also covers **climate issues**, **Black Friday deals**, and trending topics like the **Israel-Hamas War** and ongoing **elections** in 2024.\n",
       "\n",
       "Overall, CNN remains a prominent source for comprehensive coverage of both national and international news."
      ],
      "text/plain": [
       "<IPython.core.display.Markdown object>"
      ]
     },
     "metadata": {},
     "output_type": "display_data"
    }
   ],
   "source": [
    "display(Markdown(summary))"
   ]
  }
 ],
 "metadata": {
  "kernelspec": {
   "display_name": "Python 3 (ipykernel)",
   "language": "python",
   "name": "python3"
  },
  "language_info": {
   "codemirror_mode": {
    "name": "ipython",
    "version": 3
   },
   "file_extension": ".py",
   "mimetype": "text/x-python",
   "name": "python",
   "nbconvert_exporter": "python",
   "pygments_lexer": "ipython3",
   "version": "3.11.10"
  }
 },
 "nbformat": 4,
 "nbformat_minor": 5
}
