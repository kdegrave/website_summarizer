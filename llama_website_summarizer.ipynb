{
 "cells": [
  {
   "cell_type": "code",
   "execution_count": 1,
   "id": "096b5285-c8ac-40a5-9f69-d68e7067c392",
   "metadata": {},
   "outputs": [],
   "source": [
    "from IPython.display import Markdown, display\n",
    "from bs4 import BeautifulSoup\n",
    "import requests\n",
    "import ollama"
   ]
  },
  {
   "cell_type": "code",
   "execution_count": 2,
   "id": "9216587f-7801-4ffe-8809-0848059af025",
   "metadata": {},
   "outputs": [],
   "source": [
    "ollama_api = 'http://localhost:11434/api/chat'\n",
    "\n",
    "headers = {'Content-Type': 'application/json'}\n",
    "\n",
    "model = 'llama3.2'"
   ]
  },
  {
   "cell_type": "code",
   "execution_count": 3,
   "id": "77e0a6af-7ba4-4286-9ab4-e23cb347c1d1",
   "metadata": {},
   "outputs": [],
   "source": [
    "messages = [\n",
    "    {'role': 'user', 'content': 'Describe some of the business applications of generative AI.'}\n",
    "]"
   ]
  },
  {
   "cell_type": "code",
   "execution_count": 4,
   "id": "ea72937a-fe38-4825-880d-7bb5c4de3a85",
   "metadata": {},
   "outputs": [],
   "source": [
    "payload = {\n",
    "        'model': model,\n",
    "        'messages': messages,\n",
    "        'stream': False\n",
    "    }"
   ]
  },
  {
   "cell_type": "code",
   "execution_count": 5,
   "id": "ea6634da-4253-4d99-904a-1fd43382f86c",
   "metadata": {},
   "outputs": [],
   "source": [
    "response = requests.post(ollama_api, json=payload, headers=headers)"
   ]
  },
  {
   "cell_type": "code",
   "execution_count": 6,
   "id": "3597988d-f7a9-441e-ae8a-6002cea18072",
   "metadata": {},
   "outputs": [
    {
     "data": {
      "text/markdown": [
       "Generative AI has numerous business applications across various industries, including:\n",
       "\n",
       "1. **Content Creation**: Generative AI can generate high-quality content such as articles, social media posts, product descriptions, and more. This can help businesses save time and resources while maintaining a consistent tone and style.\n",
       "2. **Product Design**: Generative AI can be used to design products such as 3D models, logos, and packaging designs. This can help reduce design costs and speed up the product development process.\n",
       "3. **Marketing Automation**: Generative AI can generate personalized marketing messages, ad copy, and social media content based on customer data and preferences.\n",
       "4. **Customer Service Chatbots**: Generative AI can power chatbots that can respond to customer inquiries and provide support 24/7, freeing up human customer support agents to focus on more complex issues.\n",
       "5. **Predictive Analytics**: Generative AI can analyze large datasets to identify patterns and make predictions about future trends and outcomes, helping businesses make data-driven decisions.\n",
       "6. **Image and Video Generation**: Generative AI can generate high-quality images and videos for use in advertising, marketing, and entertainment applications.\n",
       "7. **Data Labeling and Enrichment**: Generative AI can assist with data labeling and enrichment tasks such as categorizing customer feedback, extracting insights from text data, and generating summaries of large documents.\n",
       "8. **Speech Generation**: Generative AI can generate synthetic speech for use in virtual assistants, phone systems, and other applications where high-quality audio is required.\n",
       "9. **Supply Chain Optimization**: Generative AI can analyze supply chain data to optimize logistics, predict demand, and identify potential bottlenecks.\n",
       "10. **Financial Modeling**: Generative AI can be used to build financial models that simulate the behavior of complex economic systems, helping businesses make more accurate predictions about future revenue and expenses.\n",
       "\n",
       "These are just a few examples of the many business applications of generative AI. As the technology continues to evolve, we can expect to see even more innovative uses across various industries.\n",
       "\n",
       "Some real-world companies using generative AI include:\n",
       "\n",
       "* Microsoft (generating content for their Xbox brand)\n",
       "* Amazon (using generative AI to optimize supply chain operations and improve customer service)\n",
       "* Google (using generative AI to generate high-quality images and videos for advertising and entertainment applications)\n",
       "* IBM (using generative AI to analyze large datasets and make predictions about future trends and outcomes)\n",
       "\n",
       "These companies, and many others, are already leveraging the power of generative AI to drive business innovation and growth."
      ],
      "text/plain": [
       "<IPython.core.display.Markdown object>"
      ]
     },
     "metadata": {},
     "output_type": "display_data"
    }
   ],
   "source": [
    "display(Markdown(response.json()['message']['content']))"
   ]
  },
  {
   "cell_type": "code",
   "execution_count": null,
   "id": "e3d6d280-6361-461e-ad86-fe0d84867543",
   "metadata": {},
   "outputs": [],
   "source": []
  },
  {
   "cell_type": "code",
   "execution_count": 7,
   "id": "69a2c19d-964b-4b2d-ae3d-116a787f2724",
   "metadata": {},
   "outputs": [],
   "source": [
    "class Website:\n",
    "    \"\"\"\n",
    "    Class to parse website content while removing unhelpful tags.\n",
    "    \"\"\"\n",
    "\n",
    "    def __init__(self, url):\n",
    "        self.url = url\n",
    "\n",
    "        content = requests.get(self.url).content\n",
    "\n",
    "        soup = BeautifulSoup(content, 'html.parser')\n",
    "\n",
    "        for tag in soup(['script', 'style', 'img', 'input']):\n",
    "            tag.decompose()\n",
    "\n",
    "        self.title = soup.title.string\n",
    "\n",
    "        self.text = soup.body.get_text(separator='\\n', strip=True)"
   ]
  },
  {
   "cell_type": "code",
   "execution_count": 8,
   "id": "d8cc7ecf-e696-48f8-9a40-4822126c266c",
   "metadata": {},
   "outputs": [],
   "source": [
    "system_prompt = 'You are an assistant that analyzes the contents of a website \\\n",
    "and provides a short summary, ignoring text that might be navigation related. \\\n",
    "Respond in markdown.'"
   ]
  },
  {
   "cell_type": "code",
   "execution_count": 9,
   "id": "ee782a7e-431a-4cd1-902c-ec842436bf27",
   "metadata": {},
   "outputs": [],
   "source": [
    "def user_prompt_for(website):\n",
    "\n",
    "    user_prompt = f\"You are looking at a website titled {website.title}. \\\n",
    "The contents of this website is as follows; \\\n",
    "please provide a short summary of this website in markdown. \\\n",
    "If it includes news or announcements, then summarize these too.\\n\\n\"\n",
    "\n",
    "    user_prompt += website.text\n",
    "    return user_prompt"
   ]
  },
  {
   "cell_type": "code",
   "execution_count": 10,
   "id": "309fd66d-5130-4048-aba2-87e80fe5401b",
   "metadata": {},
   "outputs": [],
   "source": [
    "def messages_for(website):\n",
    "    return [\n",
    "        {'role': 'system', 'content': system_prompt},\n",
    "        {'role': 'user', 'content': user_prompt_for(website)},\n",
    "    ]"
   ]
  },
  {
   "cell_type": "code",
   "execution_count": 11,
   "id": "58106383-dd55-404a-bd30-d5510764c0bb",
   "metadata": {},
   "outputs": [],
   "source": [
    "def summarize(url):\n",
    "\n",
    "    website = Website(url)\n",
    "\n",
    "    response = ollama.chat(\n",
    "        model='llama3.2',\n",
    "        messages=messages_for(website)\n",
    "    )\n",
    "\n",
    "    return response['message']['content']"
   ]
  },
  {
   "cell_type": "code",
   "execution_count": null,
   "id": "535789b1-964e-4c57-a106-0ad0a083013b",
   "metadata": {},
   "outputs": [],
   "source": [
    "summary = summarize('https://en.wikipedia.org/wiki/Green_Bay_Packers')"
   ]
  },
  {
   "cell_type": "code",
   "execution_count": null,
   "id": "d7f5b552-445d-4938-af46-8dd7f9b4fb15",
   "metadata": {},
   "outputs": [],
   "source": [
    "display(Markdown(summary))"
   ]
  }
 ],
 "metadata": {
  "kernelspec": {
   "display_name": "Python 3 (ipykernel)",
   "language": "python",
   "name": "python3"
  },
  "language_info": {
   "codemirror_mode": {
    "name": "ipython",
    "version": 3
   },
   "file_extension": ".py",
   "mimetype": "text/x-python",
   "name": "python",
   "nbconvert_exporter": "python",
   "pygments_lexer": "ipython3",
   "version": "3.11.10"
  }
 },
 "nbformat": 4,
 "nbformat_minor": 5
}
