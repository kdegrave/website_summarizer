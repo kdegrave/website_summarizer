{
 "cells": [
  {
   "cell_type": "code",
   "execution_count": 1,
   "id": "096b5285-c8ac-40a5-9f69-d68e7067c392",
   "metadata": {},
   "outputs": [],
   "source": [
    "from IPython.display import Markdown, display\n",
    "from bs4 import BeautifulSoup\n",
    "import requests\n",
    "import ollama"
   ]
  },
  {
   "cell_type": "code",
   "execution_count": 2,
   "id": "9216587f-7801-4ffe-8809-0848059af025",
   "metadata": {},
   "outputs": [],
   "source": [
    "ollama_api = 'http://localhost:11434/api/chat'\n",
    "\n",
    "headers = {'Content-Type': 'application/json'}\n",
    "\n",
    "model = 'llama3.2'"
   ]
  },
  {
   "cell_type": "code",
   "execution_count": 3,
   "id": "77e0a6af-7ba4-4286-9ab4-e23cb347c1d1",
   "metadata": {},
   "outputs": [],
   "source": [
    "messages = [\n",
    "    {'role': 'user', 'content': 'Describe some of the business applications of generative AI.'}\n",
    "]"
   ]
  },
  {
   "cell_type": "code",
   "execution_count": 4,
   "id": "ea72937a-fe38-4825-880d-7bb5c4de3a85",
   "metadata": {},
   "outputs": [],
   "source": [
    "payload = {\n",
    "        'model': model,\n",
    "        'messages': messages,\n",
    "        'stream': False\n",
    "    }"
   ]
  },
  {
   "cell_type": "code",
   "execution_count": 5,
   "id": "ea6634da-4253-4d99-904a-1fd43382f86c",
   "metadata": {},
   "outputs": [],
   "source": [
    "response = requests.post(ollama_api, json=payload, headers=headers)"
   ]
  },
  {
   "cell_type": "code",
   "execution_count": 6,
   "id": "3597988d-f7a9-441e-ae8a-6002cea18072",
   "metadata": {},
   "outputs": [
    {
     "data": {
      "text/markdown": [
       "Generative AI has numerous business applications across various industries, including:\n",
       "\n",
       "1. **Content Creation**: Generative AI can be used to create high-quality content such as articles, social media posts, product descriptions, and more. It can also generate images, videos, and music.\n",
       "2. **Marketing Automation**: Generative AI can help automate marketing tasks such as email campaigns, ad creation, and lead generation. It can also analyze customer data and provide personalized recommendations.\n",
       "3. **Customer Service**: Generative AI-powered chatbots can be used to provide 24/7 customer support, answer frequently asked questions, and route complex issues to human representatives.\n",
       "4. **Predictive Analytics**: Generative AI can be used to predict sales, revenue, and customer churn. It can also analyze large datasets to identify patterns and trends that may not be visible to humans.\n",
       "5. **Product Design**: Generative AI can be used to design new products, such as 3D models, user interfaces, and product packaging.\n",
       "6. **Supply Chain Optimization**: Generative AI can help optimize supply chain operations by predicting demand, managing inventory, and streamlining logistics.\n",
       "7. **Financial Analysis**: Generative AI can be used to analyze financial data, identify trends, and make predictions about market performance.\n",
       "8. **Human Resources**: Generative AI can be used to create personalized employee onboarding experiences, generate job descriptions, and provide HR recommendations.\n",
       "9. **Product Development**: Generative AI can be used to develop new products, such as software, apps, and games.\n",
       "10. **Education**: Generative AI can be used to create personalized learning experiences for students, generate educational content, and grade assignments.\n",
       "\n",
       "Some specific examples of business applications of generative AI include:\n",
       "\n",
       "* **Amazon's Product Recommendations**: Amazon uses generative AI to recommend products to customers based on their browsing history and purchase behavior.\n",
       "* **Google's Image Search**: Google uses generative AI to improve its image search results by generating high-quality images that match user queries.\n",
       "* **Salesforce's Customer Service Chatbots**: Salesforce uses generative AI-powered chatbots to provide 24/7 customer support to its customers.\n",
       "* **IBM's Watson**: IBM's Watson is a cloud-based AI platform that uses generative AI to analyze large datasets and provide insights to businesses.\n",
       "\n",
       "These are just a few examples of the many business applications of generative AI. As the technology continues to evolve, we can expect to see even more innovative uses of generative AI in various industries."
      ],
      "text/plain": [
       "<IPython.core.display.Markdown object>"
      ]
     },
     "metadata": {},
     "output_type": "display_data"
    }
   ],
   "source": [
    "display(Markdown(response.json()['message']['content']))"
   ]
  },
  {
   "cell_type": "code",
   "execution_count": null,
   "id": "e3d6d280-6361-461e-ad86-fe0d84867543",
   "metadata": {},
   "outputs": [],
   "source": []
  },
  {
   "cell_type": "code",
   "execution_count": 7,
   "id": "69a2c19d-964b-4b2d-ae3d-116a787f2724",
   "metadata": {},
   "outputs": [],
   "source": [
    "class Website:\n",
    "    \"\"\"\n",
    "    Class to parse website content while removing unhelpful tags.\n",
    "    \"\"\"\n",
    "\n",
    "    def __init__(self, url):\n",
    "        self.url = url\n",
    "\n",
    "        content = requests.get(self.url).content\n",
    "\n",
    "        soup = BeautifulSoup(content, 'html.parser')\n",
    "\n",
    "        for tag in soup(['script', 'style', 'img', 'input']):\n",
    "            tag.decompose()\n",
    "\n",
    "        self.title = soup.title.string\n",
    "\n",
    "        self.text = soup.body.get_text(separator='\\n', strip=True)"
   ]
  },
  {
   "cell_type": "code",
   "execution_count": 8,
   "id": "d8cc7ecf-e696-48f8-9a40-4822126c266c",
   "metadata": {},
   "outputs": [],
   "source": [
    "system_prompt = 'You are an assistant that analyzes the contents of a website \\\n",
    "and provides a short summary, ignoring text that might be navigation related. \\\n",
    "Respond in markdown.'"
   ]
  },
  {
   "cell_type": "code",
   "execution_count": 9,
   "id": "ee782a7e-431a-4cd1-902c-ec842436bf27",
   "metadata": {},
   "outputs": [],
   "source": [
    "def user_prompt_for(website):\n",
    "\n",
    "    user_prompt = f\"You are looking at a website titled {website.title}. \\\n",
    "The contents of this website is as follows; \\\n",
    "please provide a short summary of this website in markdown. \\\n",
    "If it includes news or announcements, then summarize these too.\\n\\n\"\n",
    "\n",
    "    user_prompt += website.text\n",
    "    return user_prompt"
   ]
  },
  {
   "cell_type": "code",
   "execution_count": 10,
   "id": "309fd66d-5130-4048-aba2-87e80fe5401b",
   "metadata": {},
   "outputs": [],
   "source": [
    "def messages_for(website):\n",
    "    return [\n",
    "        {'role': 'system', 'content': system_prompt},\n",
    "        {'role': 'user', 'content': user_prompt_for(website)},\n",
    "    ]"
   ]
  },
  {
   "cell_type": "code",
   "execution_count": 11,
   "id": "58106383-dd55-404a-bd30-d5510764c0bb",
   "metadata": {},
   "outputs": [],
   "source": [
    "def summarize(url):\n",
    "\n",
    "    website = Website(url)\n",
    "\n",
    "    response = ollama.chat(\n",
    "        model='llama3.2',\n",
    "        messages=messages_for(website)\n",
    "    )\n",
    "\n",
    "    return response['message']['content']"
   ]
  },
  {
   "cell_type": "code",
   "execution_count": 12,
   "id": "535789b1-964e-4c57-a106-0ad0a083013b",
   "metadata": {},
   "outputs": [],
   "source": [
    "summary = summarize('https://www.nfl.com/news/nfl-playoff-picture-postseason-probabilities-entering-week-12-of-2024-season')"
   ]
  },
  {
   "cell_type": "code",
   "execution_count": 13,
   "id": "d7f5b552-445d-4938-af46-8dd7f9b4fb15",
   "metadata": {},
   "outputs": [
    {
     "data": {
      "text/markdown": [
       "Here's a summary of the NFL playoff picture entering Week 11 of 2024:\n",
       "\n",
       "*   **AFC West:** Kansas City Chiefs: Division win probability 75%; playoff chances: 96.5%\n",
       "The Chiefs are looking to build on their strong start to year, they have a good chance at making the playoffs?\n",
       "*   **NFC East:** New York Giants: Division win probability 45% Playoff chances 47%, tied for second with Philadelphia and Dallas.\n",
       "*   AFC South:\n",
       "    Houston Texans: \n",
       "      quarterback play calling back-up quarterback depth\n",
       "*   The Texans are looking at the difference-maker in the division. What other factors that could tip their season.\n",
       "*   **Baltimore Ravens:** Division win probability 71% Playoff chances 82% to keep them on top.\n",
       "*   **NFC North**: Chicago Bears: Division win probability 44%; playoff chances 61%\n",
       "The Giants need offensive talent; \n",
       "*   Free agency must be a top priority in the offseason; or will they focus defense?\n",
       "*   and Packers rebuilds with quarterback\n",
       "*   Seattle Seahawks: 45% division win probability 56% Playoff chance 70%.\n",
       "*   **Division**: New York Jets to address pass rusher void; 3-1?\n",
       "The AFC East 5-tool tight-end target? The Ravens need to the OL.\n",
       "*   New England 34% with Pats' \n",
       "*   NFC West: Arizona Cardinals are division win probability 64%; playoff chances 72%.\n",
       "    **NFC West**: With the Seahawks could become a season\n",
       "*   Los Angeles Rams:   key factor that contributed to their performance? The Next Gen Stats team breaks down the play of teams like Rams."
      ],
      "text/plain": [
       "<IPython.core.display.Markdown object>"
      ]
     },
     "metadata": {},
     "output_type": "display_data"
    }
   ],
   "source": [
    "display(Markdown(summary))"
   ]
  }
 ],
 "metadata": {
  "kernelspec": {
   "display_name": "Python 3 (ipykernel)",
   "language": "python",
   "name": "python3"
  },
  "language_info": {
   "codemirror_mode": {
    "name": "ipython",
    "version": 3
   },
   "file_extension": ".py",
   "mimetype": "text/x-python",
   "name": "python",
   "nbconvert_exporter": "python",
   "pygments_lexer": "ipython3",
   "version": "3.11.10"
  }
 },
 "nbformat": 4,
 "nbformat_minor": 5
}
